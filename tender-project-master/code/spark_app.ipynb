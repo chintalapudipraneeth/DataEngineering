{
 "cells": [
  {
   "cell_type": "code",
   "execution_count": 1,
   "metadata": {},
   "outputs": [],
   "source": [
    "import pyspark\n",
    "from pyspark.sql import SparkSession\n",
    "from pyspark.conf import SparkConf\n",
    "from pyspark.context import SparkContext\n",
    "from pyspark.sql import types\n",
    "from pyspark.sql.types import FloatType\n",
    "from pyspark.sql import functions as F\n"
   ]
  },
  {
   "cell_type": "code",
   "execution_count": 2,
   "metadata": {},
   "outputs": [],
   "source": [
    "output = 'gs://dl-eu-pub-tender/results'"
   ]
  },
  {
   "cell_type": "code",
   "execution_count": 3,
   "metadata": {},
   "outputs": [
    {
     "name": "stderr",
     "output_type": "stream",
     "text": [
      "22/04/15 10:20:20 WARN NativeCodeLoader: Unable to load native-hadoop library for your platform... using builtin-java classes where applicable\n",
      "Using Spark's default log4j profile: org/apache/spark/log4j-defaults.properties\n",
      "Setting default log level to \"WARN\".\n",
      "To adjust logging level use sc.setLogLevel(newLevel). For SparkR, use setLogLevel(newLevel).\n",
      "22/04/15 10:20:23 WARN SQLConf: The SQL config 'spark.sql.legacy.parquet.int96RebaseModeInWrite' has been deprecated in Spark v3.2 and may be removed in the future. Use 'spark.sql.parquet.int96RebaseModeInWrite' instead.\n",
      "22/04/15 10:20:23 WARN SQLConf: The SQL config 'spark.sql.legacy.parquet.datetimeRebaseModeInRead' has been deprecated in Spark v3.2 and may be removed in the future. Use 'spark.sql.parquet.datetimeRebaseModeInRead' instead.\n",
      "22/04/15 10:20:23 WARN SQLConf: The SQL config 'spark.sql.legacy.parquet.int96RebaseModeInRead' has been deprecated in Spark v3.2 and may be removed in the future. Use 'spark.sql.parquet.int96RebaseModeInRead' instead.\n",
      "22/04/15 10:20:23 WARN SQLConf: The SQL config 'spark.sql.legacy.parquet.datetimeRebaseModeInWrite' has been deprecated in Spark v3.2 and may be removed in the future. Use 'spark.sql.parquet.datetimeRebaseModeInWrite' instead.\n",
      "22/04/15 10:20:23 WARN SQLConf: The SQL config 'spark.sql.legacy.parquet.int96RebaseModeInWrite' has been deprecated in Spark v3.2 and may be removed in the future. Use 'spark.sql.parquet.int96RebaseModeInWrite' instead.\n",
      "22/04/15 10:20:23 WARN SQLConf: The SQL config 'spark.sql.legacy.parquet.datetimeRebaseModeInWrite' has been deprecated in Spark v3.2 and may be removed in the future. Use 'spark.sql.parquet.datetimeRebaseModeInWrite' instead.\n",
      "22/04/15 10:20:23 WARN SQLConf: The SQL config 'spark.sql.legacy.parquet.int96RebaseModeInRead' has been deprecated in Spark v3.2 and may be removed in the future. Use 'spark.sql.parquet.int96RebaseModeInRead' instead.\n",
      "22/04/15 10:20:23 WARN SQLConf: The SQL config 'spark.sql.legacy.parquet.datetimeRebaseModeInRead' has been deprecated in Spark v3.2 and may be removed in the future. Use 'spark.sql.parquet.datetimeRebaseModeInRead' instead.\n",
      "22/04/15 10:20:23 WARN SQLConf: The SQL config 'spark.sql.legacy.parquet.int96RebaseModeInWrite' has been deprecated in Spark v3.2 and may be removed in the future. Use 'spark.sql.parquet.int96RebaseModeInWrite' instead.\n",
      "22/04/15 10:20:23 WARN SQLConf: The SQL config 'spark.sql.legacy.parquet.datetimeRebaseModeInRead' has been deprecated in Spark v3.2 and may be removed in the future. Use 'spark.sql.parquet.datetimeRebaseModeInRead' instead.\n",
      "22/04/15 10:20:23 WARN SQLConf: The SQL config 'spark.sql.legacy.parquet.int96RebaseModeInRead' has been deprecated in Spark v3.2 and may be removed in the future. Use 'spark.sql.parquet.int96RebaseModeInRead' instead.\n",
      "22/04/15 10:20:23 WARN SQLConf: The SQL config 'spark.sql.legacy.parquet.datetimeRebaseModeInWrite' has been deprecated in Spark v3.2 and may be removed in the future. Use 'spark.sql.parquet.datetimeRebaseModeInWrite' instead.\n"
     ]
    }
   ],
   "source": [
    "credentials_location = '/home/valdas/.google/credentials/google_credentials.json'\n",
    "\n",
    "# set spark configuration\n",
    "\n",
    "conf = SparkConf() \\\n",
    "    .setMaster('local[*]') \\\n",
    "    .setAppName('test') \\\n",
    "    .set('spark.jars', '/home/valdas/lib/gcs-connector-hadoop3-2.2.5.jar') \\\n",
    "    .set('spark.hadoop.google.cloud.auth.service.account.enable', 'true') \\\n",
    "    .set('spark.hadoop.google.cloud.auth.service.account.json.keyfile', credentials_location) \\\n",
    "    .set(\"spark.sql.legacy.parquet.int96RebaseModeInRead\", \"CORRECTED\") \\\n",
    "    .set(\"spark.sql.legacy.parquet.int96RebaseModeInWrite\", \"CORRECTED\") \\\n",
    "    .set(\"spark.sql.legacy.parquet.datetimeRebaseModeInRead\", \"CORRECTED\") \\\n",
    "    .set(\"spark.sql.legacy.parquet.datetimeRebaseModeInWrite\", \"CORRECTED\") \n",
    "\n",
    "# set spark context\n",
    "sc = SparkContext(conf=conf)\n",
    "\n",
    "hadoop_conf = sc._jsc.hadoopConfiguration()\n",
    "\n",
    "hadoop_conf.set('fs.AbstractFileSystem.gs.impl',  'com.google.cloud.hadoop.fs.gcs.GoogleHadoopFS')\n",
    "hadoop_conf.set('fs.gs.impl', 'com.google.cloud.hadoop.fs.gcs.GoogleHadoopFileSystem')\n",
    "hadoop_conf.set('fs.gs.auth.service.account.json.keyfile', credentials_location)\n",
    "hadoop_conf.set('fs.gs.auth.service.account.enable', 'true')\n",
    "\n",
    "# create spark session\n",
    "\n",
    "spark = SparkSession.builder \\\n",
    "    .config(conf = sc.getConf()) \\\n",
    "    .getOrCreate()"
   ]
  },
  {
   "cell_type": "code",
   "execution_count": 4,
   "metadata": {},
   "outputs": [],
   "source": [
    "schema = types.StructType([\n",
    "    types.StructField (\"tender_row_nr\", types.IntegerType(), True),          \n",
    "    types.StructField('tender_id', types.StringType(), True),\n",
    "    types.StructField('tender_country', types.StringType(), True),\n",
    "    types.StructField('tender_title', types.StringType(), True),\n",
    "    types.StructField('tender_size', types.StringType(), True),\n",
    "    types.StructField('tender_supplyType', types.StringType(), True),\n",
    "    types.StructField('tender_procedureType', types.StringType(), True),\n",
    "    types.StructField('tender_nationalProcedureType', types.StringType(), True),\n",
    "    types.StructField('tender_mainCpv', types.StringType(), True),\n",
    "    types.StructField('tender_cpvs', types.StringType(), True),\n",
    "    types.StructField('tender_addressOfImplementation_nuts', types.StringType(), True),\n",
    "    types.StructField('tender_year', types.TimestampType(), True),\n",
    "    types.StructField('tender_eligibleBidLanguages', types.StringType(), True),\n",
    "    types.StructField('tender_npwp_reasons', types.StringType(), True),\n",
    "    types.StructField('tender_awardDeadline', types.TimestampType(), True),\n",
    "    types.StructField('tender_contractSignatureDate', types.TimestampType(), True),\n",
    "    types.StructField('tender_awardDecisionDate', types.TimestampType(), True),\n",
    "    types.StructField('tender_bidDeadline', types.TimestampType(), True),\n",
    "    types.StructField('tender_cancellationDate', types.TimestampType(), True),\n",
    "    types.StructField('tender_estimatedStartDate', types.TimestampType(), True),\n",
    "    types.StructField('tender_estimatedCompletionDate', types.TimestampType(), True),\n",
    "    types.StructField('tender_estimatedDurationInYears', types.IntegerType(), True),\n",
    "    types.StructField('tender_estimatedDurationInMonths', types.IntegerType(), True),\n",
    "    types.StructField('tender_estimatedDurationInDays', types.IntegerType(), True),\n",
    "    types.StructField('tender_isEUFunded', types.StringType(), True),\n",
    "    types.StructField('tender_isDps', types.StringType(), True),\n",
    "    types.StructField('tender_isElectronicAuction', types.StringType(), True),\n",
    "    types.StructField('tender_isAwarded', types.StringType(), True),\n",
    "    types.StructField('tender_isCentralProcurement', types.StringType(), True),\n",
    "    types.StructField('tender_isJointProcurement', types.StringType(), True),\n",
    "    types.StructField('tender_isOnBehalfOf', types.StringType(), True),\n",
    "    types.StructField('tender_isFrameworkAgreement', types.StringType(), True),\n",
    "    types.StructField('tender_isCoveredByGpa', types.StringType(), True),\n",
    "    types.StructField('tender_hasLots', types.StringType(), True),\n",
    "    types.StructField('tender_estimatedPrice', types.FloatType(), True),\n",
    "    types.StructField('tender_estimatedPrice_currency', types.StringType(), True),\n",
    "    types.StructField('tender_estimatedPrice_minNetAmount', types.FloatType(), True),\n",
    "    types.StructField('tender_estimatedPrice_maxNetAmount', types.FloatType(), True),\n",
    "    types.StructField('tender_estimatedPrice_EUR', types.FloatType(), True),\n",
    "    types.StructField('tender_finalPrice', types.FloatType(), True),\n",
    "    types.StructField('tender_finalPrice_currency', types.StringType(), True),\n",
    "    types.StructField('tender_finalPrice_minNetAmount', types.FloatType(), True),\n",
    "    types.StructField('tender_finalPrice_maxNetAmount', types.FloatType(), True),\n",
    "    types.StructField('tender_finalPrice_EUR', types.FloatType(), True),\n",
    "    types.StructField('tender_description_length', types.StringType(), True),\n",
    "    types.StructField('tender_personalRequirements_length', types.StringType(), True),\n",
    "    types.StructField('tender_economicRequirements_length', types.StringType(), True),\n",
    "    types.StructField('tender_technicalRequirements_length', types.StringType(), True),\n",
    "    types.StructField('tender_documents_count', types.IntegerType(), True),\n",
    "    types.StructField('tender_awardCriteria_count', types.IntegerType(), True),\n",
    "    types.StructField('tender_corrections_count', types.IntegerType(), True),\n",
    "    types.StructField('tender_onBehalfOf_count', types.IntegerType(), True),\n",
    "    types.StructField('tender_lots_count', types.IntegerType(), True),\n",
    "    types.StructField('tender_publications_count', types.IntegerType(), True),\n",
    "    types.StructField('tender_publications_firstCallForTenderDate', types.TimestampType(), True),\n",
    "    types.StructField('tender_publications_lastCallForTenderDate', types.TimestampType(), True),\n",
    "    types.StructField('tender_publications_firstdContractAwardDate', types.TimestampType(), True),\n",
    "    types.StructField('tender_publications_lastContractAwardDate', types.TimestampType(), True),\n",
    "    types.StructField('tender_publications_lastContractAwardUrl', types.StringType(), True),\n",
    "    types.StructField('tender_indicator_INTEGRITY_SINGLE_BID', types.StringType(), True),\n",
    "    types.StructField('tender_indicator_INTEGRITY_CALL_FOR_TENDER_PUBLICATION', types.StringType(), True),\n",
    "    types.StructField('tender_indicator_INTEGRITY_ADVERTISEMENT_PERIOD', types.StringType(), True),\n",
    "    types.StructField('tender_indicator_INTEGRITY_PROCEDURE_TYPE', types.StringType(), True),\n",
    "    types.StructField('tender_indicator_INTEGRITY_DECISION_PERIOD', types.StringType(), True),\n",
    "    types.StructField('tender_indicator_INTEGRITY_TAX_HAVEN', types.StringType(), True),\n",
    "    types.StructField('tender_indicator_INTEGRITY_NEW_COMPANY', types.StringType(), True),\n",
    "    types.StructField('tender_indicator_ADMINISTRATIVE_CENTRALIZED_PROCUREMENT', types.StringType(), True),\n",
    "    types.StructField('tender_indicator_ADMINISTRATIVE_ELECTRONIC_AUCTION', types.StringType(), True),\n",
    "    types.StructField('tender_indicator_ADMINISTRATIVE_COVERED_BY_GPA', types.StringType(), True),\n",
    "    types.StructField('tender_indicator_ADMINISTRATIVE_FRAMEWORK_AGREEMENT', types.StringType(), True),\n",
    "    types.StructField('tender_indicator_ADMINISTRATIVE_ENGLISH_AS_FOREIGN_LANGUAGE', types.StringType(), True),\n",
    "    types.StructField('tender_indicator_ADMINISTRATIVE_NOTICE_AND_AWARD_DISCREPANCIES', types.StringType(), True),\n",
    "    types.StructField('tender_indicator_TRANSPARENCY_NUMBER_OF_KEY_MISSING_FIELDS', types.StringType(), True),\n",
    "    types.StructField('tender_indicator_TRANSPARENCY_AWARD_DATE_MISSING', types.StringType(), True),\n",
    "    types.StructField('tender_indicator_TRANSPARENCY_BUYER_NAME_MISSING', types.StringType(), True),\n",
    "    types.StructField('tender_indicator_TRANSPARENCY_PROC_METHOD_MISSING', types.StringType(), True),\n",
    "    types.StructField('tender_indicator_TRANSPARENCY_BUYER_LOC_MISSING', types.StringType(), True),\n",
    "    types.StructField('tender_indicator_TRANSPARENCY_BIDDER_ID_MISSING', types.StringType(), True),\n",
    "    types.StructField('tender_indicator_TRANSPARENCY_BIDDER_NAME_MISSING', types.StringType(), True),\n",
    "    types.StructField('tender_indicator_TRANSPARENCY_MARKET_MISSING', types.StringType(), True),\n",
    "    types.StructField('tender_indicator_TRANSPARENCY_TITLE_MISSING', types.StringType(), True),\n",
    "    types.StructField('tender_indicator_TRANSPARENCY_VALUE_MISSING', types.StringType(), True),\n",
    "    types.StructField('tender_indicator_TRANSPARENCY_YEAR_MISSING', types.StringType(), True),\n",
    "    types.StructField('tender_indicator_INTEGRITY_WINNER_CA_SHARE', types.StringType(), True),\n",
    "    types.StructField('tender_indicator_TRANSPARENCY_MISSING_ADDRESS_OF_IMPLEMENTATION_NUTS', types.StringType(), True),\n",
    "    types.StructField('tender_indicator_TRANSPARENCY_MISSING_ELIGIBLE_BID_LANGUAGES', types.StringType(), True),\n",
    "    types.StructField('tender_indicator_TRANSPARENCY_MISSING_OR_INCOMPLETE_AWARD_CRITERIA', types.StringType(), True),\n",
    "    types.StructField('tender_indicator_TRANSPARENCY_MISSING_OR_INCOMPLETE_CPVS', types.StringType(), True),\n",
    "    types.StructField('tender_indicator_TRANSPARENCY_MISSING_OR_INCOMPLETE_DURATION_INFO', types.StringType(), True),\n",
    "    types.StructField('tender_indicator_TRANSPARENCY_MISSING_OR_INCOMPLETE_FUNDINGS_INFO', types.StringType(), True),\n",
    "    types.StructField('tender_indicator_TRANSPARENCY_MISSING_SELECTION_METHOD', types.StringType(), True),\n",
    "    types.StructField('tender_indicator_TRANSPARENCY_MISSING_SUBCONTRACTED_INFO', types.StringType(), True),\n",
    "    types.StructField('buyer_row_nr', types.StringType(), True),\n",
    "    types.StructField('buyer_buyerType', types.StringType(), True),\n",
    "    types.StructField('buyer_mainActivities', types.StringType(), True),\n",
    "    types.StructField('buyer_id', types.StringType(), True),\n",
    "    types.StructField('buyer_name', types.StringType(), True),\n",
    "    types.StructField('buyer_nuts', types.StringType(), True),\n",
    "    types.StructField('buyer_city', types.StringType(), True),\n",
    "    types.StructField('buyer_country', types.StringType(), True),\n",
    "    types.StructField('buyer_postcode', types.StringType(), True),\n",
    "    types.StructField('lot_row_nr', types.StringType(), True),\n",
    "    types.StructField('lot_title', types.StringType(), True),\n",
    "    types.StructField('lot_selectionMethod', types.StringType(), True),\n",
    "    types.StructField('lot_status', types.StringType(), True),\n",
    "    types.StructField('lot_contractSignatureDate', types.StringType(), True),\n",
    "    types.StructField('lot_cancellationDate', types.StringType(), True),\n",
    "    types.StructField('lot_isAwarded', types.StringType(), True),\n",
    "    types.StructField('lot_estimatedPrice', types.FloatType(), True),\n",
    "    types.StructField('lot_estimatedPrice_currency', types.StringType(), True),\n",
    "    types.StructField('lot_estimatedPrice_minNetAmount', types.FloatType(), True),\n",
    "    types.StructField('lot_estimatedPrice_maxNetAmount', types.FloatType(), True),\n",
    "    types.StructField('lot_estimatedPrice_EUR', types.FloatType(), True),\n",
    "    types.StructField('lot_lotNumber', types.StringType(), True),\n",
    "    types.StructField('lot_bidsCount', types.IntegerType(), True),\n",
    "    types.StructField('lot_validBidsCount', types.IntegerType(), True),\n",
    "    types.StructField('lot_smeBidsCount', types.IntegerType(), True),\n",
    "    types.StructField('lot_electronicBidsCount', types.IntegerType(), True),\n",
    "    types.StructField('lot_nonEuMemberStatesCompaniesBidsCount', types.IntegerType(), True),\n",
    "    types.StructField('lot_otherEuMemberStatesCompaniesBidsCount', types.IntegerType(), True),\n",
    "    types.StructField('lot_foreignCompaniesBidsCount', types.IntegerType(), True),\n",
    "    types.StructField('lot_description_length', types.StringType(), True),\n",
    "    types.StructField('bid_row_nr', types.StringType(), True),\n",
    "    types.StructField('bid_isWinning', types.StringType(), True),\n",
    "    types.StructField('bid_isSubcontracted', types.StringType(), True),\n",
    "    types.StructField('bid_isConsortium', types.StringType(), True),\n",
    "    types.StructField('bid_price', types.FloatType(), True),\n",
    "    types.StructField('bid_price_currency', types.StringType(), True),\n",
    "    types.StructField('bid_price_minNetAmount', FloatType(), True),\n",
    "    types.StructField('bid_price_maxNetAmount', FloatType(), True),\n",
    "    types.StructField('bid_price_EUR', types.FloatType(), True),\n",
    "    types.StructField('bidder_row_nr', types.StringType(), True),\n",
    "    types.StructField('bidder_id', types.StringType(), True),\n",
    "    types.StructField('bidder_name', types.StringType(), True),\n",
    "    types.StructField('bidder_nuts', types.StringType(), True),\n",
    "    types.StructField('bidder_city', types.StringType(), True),\n",
    "    types.StructField('bidder_country', types.StringType(), True),\n",
    "    types.StructField('bidder_postcode', types.StringType(), True)\n",
    "])\n"
   ]
  },
  {
   "cell_type": "code",
   "execution_count": 5,
   "metadata": {},
   "outputs": [
    {
     "name": "stderr",
     "output_type": "stream",
     "text": [
      "22/04/15 10:20:43 WARN SQLConf: The SQL config 'spark.sql.legacy.parquet.int96RebaseModeInWrite' has been deprecated in Spark v3.2 and may be removed in the future. Use 'spark.sql.parquet.int96RebaseModeInWrite' instead.\n",
      "22/04/15 10:20:43 WARN SQLConf: The SQL config 'spark.sql.legacy.parquet.datetimeRebaseModeInRead' has been deprecated in Spark v3.2 and may be removed in the future. Use 'spark.sql.parquet.datetimeRebaseModeInRead' instead.\n",
      "22/04/15 10:20:43 WARN SQLConf: The SQL config 'spark.sql.legacy.parquet.int96RebaseModeInRead' has been deprecated in Spark v3.2 and may be removed in the future. Use 'spark.sql.parquet.int96RebaseModeInRead' instead.\n",
      "22/04/15 10:20:43 WARN SQLConf: The SQL config 'spark.sql.legacy.parquet.datetimeRebaseModeInWrite' has been deprecated in Spark v3.2 and may be removed in the future. Use 'spark.sql.parquet.datetimeRebaseModeInWrite' instead.\n"
     ]
    }
   ],
   "source": [
    "df = spark.read \\\n",
    "    .option('header', 'true') \\\n",
    "    .option(\"delimiter\", \";\") \\\n",
    "    .schema(schema) \\\n",
    "    .csv('gs://dl-eu-pub-tender/raw_data/country_data/*')\n",
    "   "
   ]
  },
  {
   "cell_type": "code",
   "execution_count": 6,
   "metadata": {},
   "outputs": [],
   "source": [
    "def  boolean_conversion(base_str):\n",
    "    if base_str == 'yes':\n",
    "        return True\n",
    "    elif base_str == 'no':\n",
    "        return False\n",
    "    else:\n",
    "        return f'unknown'\n",
    "\n",
    "boolean_conversion_udf = F.udf(boolean_conversion, returnType=types.BooleanType())"
   ]
  },
  {
   "cell_type": "code",
   "execution_count": 7,
   "metadata": {},
   "outputs": [
    {
     "name": "stderr",
     "output_type": "stream",
     "text": [
      "22/04/15 10:21:12 WARN SQLConf: The SQL config 'spark.sql.legacy.parquet.int96RebaseModeInWrite' has been deprecated in Spark v3.2 and may be removed in the future. Use 'spark.sql.parquet.int96RebaseModeInWrite' instead.\n",
      "22/04/15 10:21:12 WARN SQLConf: The SQL config 'spark.sql.legacy.parquet.datetimeRebaseModeInRead' has been deprecated in Spark v3.2 and may be removed in the future. Use 'spark.sql.parquet.datetimeRebaseModeInRead' instead.\n",
      "22/04/15 10:21:12 WARN SQLConf: The SQL config 'spark.sql.legacy.parquet.int96RebaseModeInRead' has been deprecated in Spark v3.2 and may be removed in the future. Use 'spark.sql.parquet.int96RebaseModeInRead' instead.\n",
      "22/04/15 10:21:12 WARN SQLConf: The SQL config 'spark.sql.legacy.parquet.datetimeRebaseModeInWrite' has been deprecated in Spark v3.2 and may be removed in the future. Use 'spark.sql.parquet.datetimeRebaseModeInWrite' instead.\n"
     ]
    }
   ],
   "source": [
    "df = df \\\n",
    "    .withColumn('tender_date', F.to_date(df.tender_awardDecisionDate, 'yyyy-mm-dd')) \\\n",
    "    .withColumn('tender_year', F.year(df.tender_year)) \\\n",
    "    .withColumnRenamed('tender_supplyType', 'purchase_type') \\\n",
    "    .withColumnRenamed('tender_procedureType', 'procedure_type') \\\n",
    "    .withColumnRenamed('tender_finalPrice_EUR', 'final_price') \\\n",
    "    .withColumnRenamed('tender_awardCriteria_count', 'award_criteria_count') \\\n",
    "    .withColumnRenamed('buyer_buyerType', 'buyer_type') \\\n",
    "    .withColumnRenamed('buyer_mainActivities', 'buyers_activities') \\\n",
    "    .withColumn('eu_funded', boolean_conversion_udf(df.tender_isEUFunded)) \\\n",
    "    .select('tender_id', 'eu_funded', 'tender_year', 'tender_date', 'tender_country','buyer_name', 'buyer_type', 'buyers_activities', 'purchase_type', 'procedure_type','award_criteria_count', 'bidder_name', 'final_price' )"
   ]
  },
  {
   "cell_type": "code",
   "execution_count": 8,
   "metadata": {},
   "outputs": [
    {
     "data": {
      "text/plain": [
       "DataFrame[tender_id: string, eu_funded: boolean, tender_year: int, tender_date: date, tender_country: string, buyer_name: string, buyer_type: string, buyers_activities: string, purchase_type: string, procedure_type: string, award_criteria_count: int, bidder_name: string, final_price: float]"
      ]
     },
     "execution_count": 8,
     "metadata": {},
     "output_type": "execute_result"
    }
   ],
   "source": [
    "df.repartition(48)"
   ]
  },
  {
   "cell_type": "code",
   "execution_count": 9,
   "metadata": {},
   "outputs": [
    {
     "name": "stderr",
     "output_type": "stream",
     "text": [
      "                                                                                \r"
     ]
    }
   ],
   "source": [
    "df.write.parquet('gs://dl-eu-pub-tender/raw_data/parquet', mode = 'overwrite')"
   ]
  },
  {
   "cell_type": "code",
   "execution_count": 44,
   "metadata": {},
   "outputs": [],
   "source": [
    "dfPar = spark.read.parquet('gs://dl-eu-pub-tender/raw_data/parquet')"
   ]
  },
  {
   "cell_type": "code",
   "execution_count": 45,
   "metadata": {},
   "outputs": [],
   "source": [
    "dfPar.createOrReplaceTempView('data')"
   ]
  },
  {
   "cell_type": "code",
   "execution_count": 10,
   "metadata": {},
   "outputs": [
    {
     "name": "stderr",
     "output_type": "stream",
     "text": [
      "[Stage 3:============================================>              (6 + 2) / 8]\r"
     ]
    },
    {
     "name": "stdout",
     "output_type": "stream",
     "text": [
      "+--------------------+--------------------+\n",
      "|         bidder_name|               value|\n",
      "+--------------------+--------------------+\n",
      "|BG TEVA GmbH, rat...|         2.092538E12|\n",
      "|   ALIUD PHARMA GmbH|    9.82911731748E11|\n",
      "|     1 A Pharma GmbH|    7.82850600616E11|\n",
      "|  Aristo Pharma GmbH|     5.4316061316E11|\n",
      "|BG Heumann Pharma...|          4.37472E11|\n",
      "|BG PUREN Pharma G...|          4.37472E11|\n",
      "|            Hexal AG|    3.92045495996E11|\n",
      "|    GALENpharma GmbH|    3.89219745296E11|\n",
      "|neuraxpharm Arzne...|    3.42314004356E11|\n",
      "|BG Zentiva Pharma...|          2.91648E11|\n",
      "|Glenmark Arzneimi...|    2.01546874736E11|\n",
      "|         Basics GmbH|1.963134267834375E11|\n",
      "|     AAA-Pharma GmbH|    1.47546933764E11|\n",
      "|         TEVA ITALIA|     1.1216921136E11|\n",
      "|AIESI HOSPITAL SE...|    1.11437296291E11|\n",
      "+--------------------+--------------------+\n",
      "\n"
     ]
    },
    {
     "name": "stderr",
     "output_type": "stream",
     "text": [
      "                                                                                \r"
     ]
    }
   ],
   "source": [
    "# Show 15 largest public tender suppliers in EU\n",
    "df_largest_suppliers = spark.sql(\"\"\"\n",
    "SELECT bidder_name, sum(final_price) AS value\n",
    "FROM data\n",
    "WHERE bidder_name IS NOT NULL\n",
    "GROUP BY bidder_name\n",
    "ORDER BY sum(final_price) DESC\n",
    "LIMIT 15;\n",
    "\"\"\")"
   ]
  },
  {
   "cell_type": "code",
   "execution_count": 11,
   "metadata": {},
   "outputs": [
    {
     "name": "stderr",
     "output_type": "stream",
     "text": [
      "[Stage 5:======================================================>(328 + 2) / 330]\r"
     ]
    },
    {
     "name": "stdout",
     "output_type": "stream",
     "text": [
      "+--------------------+--------------------+\n",
      "|   buyers_activities|               value|\n",
      "+--------------------+--------------------+\n",
      "|              HEALTH|1.392437537436630...|\n",
      "|HEALTH,OTHER,GENE...|1.182682029617625...|\n",
      "|GENERAL_PUBLIC_SE...|1.678776219599417...|\n",
      "|               OTHER|1.183263491195017...|\n",
      "|        HEALTH,OTHER|8.420023862121294E11|\n",
      "|OTHER,GENERAL_PUB...|8.092877406141925E11|\n",
      "|GENERAL_PUBLIC_SE...| 6.22540863347945E11|\n",
      "|HEALTH,GENERAL_PU...|5.969822360742549E11|\n",
      "|GENERAL_PUBLIC_SE...|5.254400545768906E11|\n",
      "|OTHER,ENVIRONMENT...|2.489289820332660...|\n",
      "|GENERAL_PUBLIC_SE...|2.445128217288515...|\n",
      "|           EDUCATION|2.358245051329227...|\n",
      "|             DEFENCE|1.792321960181112...|\n",
      "|HOUSING_AND_COMMU...|1.580622228752117...|\n",
      "|HOUSING_AND_COMMU...|1.500738696063661E11|\n",
      "|HEALTH,GENERAL_PU...|1.265497186235592...|\n",
      "|PUBLIC_ORDER_AND_...|1.208172822787124...|\n",
      "|         ELECTRICITY|1.135620294280568...|\n",
      "|HEALTH,OTHER,HOUS...|1.077169679170937...|\n",
      "|GENERAL_PUBLIC_SE...|1.050897271318592...|\n",
      "+--------------------+--------------------+\n",
      "only showing top 20 rows\n",
      "\n"
     ]
    },
    {
     "name": "stderr",
     "output_type": "stream",
     "text": [
      "                                                                                \r"
     ]
    }
   ],
   "source": [
    "# Show 25 sectors, where EU spends most\n",
    "df_largest_sectors = spark.sql(\"\"\"\n",
    "SELECT buyers_activities, sum(final_price) AS value\n",
    "FROM data\n",
    "WHERE buyers_activities IS NOT NULL\n",
    "GROUP BY buyers_activities\n",
    "ORDER BY sum(final_price) DESC\n",
    "LIMIT 25;\n",
    "\"\"\").show()"
   ]
  },
  {
   "cell_type": "code",
   "execution_count": 12,
   "metadata": {},
   "outputs": [
    {
     "name": "stderr",
     "output_type": "stream",
     "text": [
      "[Stage 9:======================================================>(329 + 1) / 330]\r"
     ]
    },
    {
     "name": "stdout",
     "output_type": "stream",
     "text": [
      "+--------------------+--------------------+\n",
      "|      procedure_type|              amount|\n",
      "+--------------------+--------------------+\n",
      "|                OPEN|3.703694820816669E13|\n",
      "|          RESTRICTED|9.072365150053544E11|\n",
      "|NEGOTIATED_WITH_P...|8.352770879332925E11|\n",
      "|NEGOTIATED_WITHOU...|4.951850850196092E11|\n",
      "|          NEGOTIATED|3.547498204683302E11|\n",
      "|  COMPETITIVE_DIALOG|9.077439841323251E10|\n",
      "|                null| 5.01239254870525E10|\n",
      "| APPROACHING_BIDDERS|3.703755632541736E10|\n",
      "|INOVATION_PARTNER...|1.489559890273312...|\n",
      "|               OTHER| 9.242293528452265E9|\n",
      "|      OUTRIGHT_AWARD|3.8540221732375107E9|\n",
      "|          MINITENDER|1.1392184837360263E9|\n",
      "|   Lot 4 - DRDP Iasi|      4.5520667875E8|\n",
      "| Lotto n. 5: 0600...|         4.9800076E7|\n",
      "|      PUBLIC_CONTEST|         4.3445801E7|\n",
      "| 4.Обособена пози...|          1.893635E7|\n",
      "| Construire centr...|         1.8848958E7|\n",
      "| Обособена позици...|          1.531716E7|\n",
      "| Обособена позици...|         1.4640822E7|\n",
      "| ЛОТ 4- райони Бя...|              1.05E7|\n",
      "+--------------------+--------------------+\n",
      "only showing top 20 rows\n",
      "\n"
     ]
    },
    {
     "name": "stderr",
     "output_type": "stream",
     "text": [
      "                                                                                \r"
     ]
    }
   ],
   "source": [
    "# Show purchases by procedure type\n",
    "df_procedures = spark.sql(\"\"\"\n",
    "SELECT procedure_type, sum(final_price) AS amount\n",
    "FROM data\n",
    "GROUP BY procedure_type\n",
    "ORDER BY sum(final_price) DESC\n",
    "LIMIT 12;\n",
    "\"\"\").show()"
   ]
  },
  {
   "cell_type": "code",
   "execution_count": 16,
   "metadata": {},
   "outputs": [
    {
     "name": "stderr",
     "output_type": "stream",
     "text": [
      "[Stage 14:=====================================================>(328 + 2) / 330]\r"
     ]
    },
    {
     "name": "stdout",
     "output_type": "stream",
     "text": [
      "+--------------+-----------+--------------------+\n",
      "|tender_country|tender_year|               value|\n",
      "+--------------+-----------+--------------------+\n",
      "|            IT|       2016|1.228789393257906...|\n",
      "|            DE|       2016|9.886196574122207E12|\n",
      "|            FR|       2017|8.020394195745898E11|\n",
      "|            FR|       2019|7.826629803352505E11|\n",
      "|            FR|       2018|6.614133934468223E11|\n",
      "|            FR|       2016|5.684921082847106E11|\n",
      "|            LT|       2015|4.549899950147812...|\n",
      "|            PL|       2019|4.316972988045312...|\n",
      "|            IT|       2018| 3.95641994436104E11|\n",
      "|            PL|       2018|3.528840293357969E11|\n",
      "|            ES|       2018|3.105747164751419E11|\n",
      "|            FR|       2020|3.005226664332304...|\n",
      "|            IT|       2019|2.953583413658703...|\n",
      "|            IT|       2015|2.953137557538583...|\n",
      "|            PL|       2017|2.803455343799687...|\n",
      "|            RO|       2017|2.754602780603906E11|\n",
      "|            IT|       2017|2.442633661429955...|\n",
      "|            ES|       2019|2.381609711489872...|\n",
      "|            RO|       2014|2.255745434481718...|\n",
      "|            PL|       2014|2.205679956475156...|\n",
      "+--------------+-----------+--------------------+\n",
      "only showing top 20 rows\n",
      "\n"
     ]
    },
    {
     "name": "stderr",
     "output_type": "stream",
     "text": [
      "                                                                                \r"
     ]
    }
   ],
   "source": [
    "# Show tender values by country over years\n",
    "df_values_by_country = spark.sql(\"\"\"\n",
    "SELECT tender_country, tender_year, sum(final_price) AS value\n",
    "FROM data\n",
    "GROUP BY tender_country, tender_year\n",
    "ORDER BY sum(final_price) DESC;\n",
    "\"\"\").show()"
   ]
  },
  {
   "cell_type": "code",
   "execution_count": 17,
   "metadata": {},
   "outputs": [
    {
     "name": "stderr",
     "output_type": "stream",
     "text": [
      "[Stage 17:=====================================================>(328 + 2) / 330]\r"
     ]
    },
    {
     "name": "stdout",
     "output_type": "stream",
     "text": [
      "+-----------+-----------+--------------------+--------------------+-----------+-------------+\n",
      "|tender_date|tender_year|          buyer_name|   buyers_activities|bidder_name|  final_price|\n",
      "+-----------+-----------+--------------------+--------------------+-----------+-------------+\n",
      "|       null|       2016|Azienda Ospedalie...|HEALTH,OTHER,GENE...|     Abbvie|1.09164569E11|\n",
      "+-----------+-----------+--------------------+--------------------+-----------+-------------+\n",
      "\n"
     ]
    },
    {
     "name": "stderr",
     "output_type": "stream",
     "text": [
      "                                                                                \r"
     ]
    }
   ],
   "source": [
    "# Show largest public tender ever\n",
    "df_largest_tender = spark.sql(\"\"\"\n",
    "SELECT tender_date, tender_year, buyer_name, buyers_activities, bidder_name, final_price\n",
    "FROM data\n",
    "ORDER BY final_price DESC\n",
    "LIMIT 1;\n",
    "\"\"\").show()"
   ]
  },
  {
   "cell_type": "code",
   "execution_count": 30,
   "metadata": {},
   "outputs": [],
   "source": [
    "# Show how largest buyer revenues develop over years\n",
    "df_largest_bidders_revenues = spark.sql(\"\"\"\n",
    "SELECT bidder_name, tender_year, sum(final_price) AS revenue\n",
    "FROM data\n",
    "GROUP BY bidder_name, tender_year\n",
    "ORDER BY sum(final_price) DESC\n",
    "LIMIT 15;\n",
    "\"\"\")"
   ]
  },
  {
   "cell_type": "code",
   "execution_count": 31,
   "metadata": {},
   "outputs": [
    {
     "name": "stderr",
     "output_type": "stream",
     "text": [
      "[Stage 27:>                                                       (4 + 4) / 330]\r"
     ]
    }
   ],
   "source": [
    "df_largest_bidders_revenues.head()"
   ]
  },
  {
   "cell_type": "code",
   "execution_count": 25,
   "metadata": {},
   "outputs": [
    {
     "ename": "AttributeError",
     "evalue": "'NoneType' object has no attribute 'coalesce'",
     "output_type": "error",
     "traceback": [
      "\u001b[0;31m---------------------------------------------------------------------------\u001b[0m",
      "\u001b[0;31mAttributeError\u001b[0m                            Traceback (most recent call last)",
      "\u001b[0;32m/tmp/ipykernel_6605/471763532.py\u001b[0m in \u001b[0;36m<module>\u001b[0;34m\u001b[0m\n\u001b[0;32m----> 1\u001b[0;31m \u001b[0mdf_largest_sectors\u001b[0m\u001b[0;34m.\u001b[0m\u001b[0mcoalesce\u001b[0m\u001b[0;34m(\u001b[0m\u001b[0;36m1\u001b[0m\u001b[0;34m)\u001b[0m\u001b[0;31m \u001b[0m\u001b[0;31m\\\u001b[0m\u001b[0;34m\u001b[0m\u001b[0;34m\u001b[0m\u001b[0m\n\u001b[0m\u001b[1;32m      2\u001b[0m     \u001b[0;34m.\u001b[0m\u001b[0mwrite\u001b[0m\u001b[0;34m.\u001b[0m\u001b[0mparquet\u001b[0m\u001b[0;34m(\u001b[0m\u001b[0moutput\u001b[0m\u001b[0;34m/\u001b[0m\u001b[0;34m+\u001b[0m\u001b[0;34m'largest_sectors.parquet'\u001b[0m\u001b[0;34m,\u001b[0m \u001b[0mmode\u001b[0m\u001b[0;34m=\u001b[0m\u001b[0;34m'overwrite'\u001b[0m\u001b[0;34m)\u001b[0m\u001b[0;34m\u001b[0m\u001b[0;34m\u001b[0m\u001b[0m\n",
      "\u001b[0;31mAttributeError\u001b[0m: 'NoneType' object has no attribute 'coalesce'"
     ]
    }
   ],
   "source": []
  },
  {
   "cell_type": "code",
   "execution_count": 66,
   "metadata": {},
   "outputs": [
    {
     "name": "stderr",
     "output_type": "stream",
     "text": [
      "22/04/15 12:35:08 WARN RowBasedKeyValueBatch: Calling spill() on RowBasedKeyValueBatch. Will not spill but return 0.\n",
      "22/04/15 12:35:08 WARN RowBasedKeyValueBatch: Calling spill() on RowBasedKeyValueBatch. Will not spill but return 0.\n",
      "22/04/15 12:35:08 WARN RowBasedKeyValueBatch: Calling spill() on RowBasedKeyValueBatch. Will not spill but return 0.\n",
      "22/04/15 12:35:15 WARN RowBasedKeyValueBatch: Calling spill() on RowBasedKeyValueBatch. Will not spill but return 0.\n",
      "[Stage 46:=========================================>                (5 + 2) / 7]\r"
     ]
    },
    {
     "name": "stdout",
     "output_type": "stream",
     "text": [
      "+------------------+--------------------+-----------+\n",
      "|           revenue|         bidder_name|tender_year|\n",
      "+------------------+--------------------+-----------+\n",
      "|       2.092538E12|BG TEVA GmbH, rat...|       2016|\n",
      "|  9.76212612048E11|   ALIUD PHARMA GmbH|       2016|\n",
      "|  7.82850600616E11|     1 A Pharma GmbH|       2016|\n",
      "|  5.36139022864E11|  Aristo Pharma GmbH|       2016|\n",
      "|        4.37472E11|BG PUREN Pharma G...|       2016|\n",
      "|        4.37472E11|BG Heumann Pharma...|       2016|\n",
      "|  3.92045016664E11|            Hexal AG|       2016|\n",
      "|  3.89217446296E11|    GALENpharma GmbH|       2016|\n",
      "|  3.40732359728E11|neuraxpharm Arzne...|       2016|\n",
      "|        2.91648E11|BG Zentiva Pharma...|       2016|\n",
      "|  1.99337815432E11|Glenmark Arzneimi...|       2016|\n",
      "|  1.95386018456E11|         Basics GmbH|       2016|\n",
      "|  1.46184343296E11|     AAA-Pharma GmbH|       2016|\n",
      "|1.0962023711875E11|              Abbvie|       2016|\n",
      "|  1.09410950164E11|          MSD ITALIA|       2016|\n",
      "|  1.09392155698E11|              PFIZER|       2016|\n",
      "|   1.0929461836E11|ACCORD HEALTHCARE...|       2016|\n",
      "|  1.09271231158E11|        NOVO NORDISK|       2016|\n",
      "|  1.09246695772E11|       PFIZER ITALIA|       2016|\n",
      "|   1.0921932004E11|MUNDIPHARMA PHARM...|       2016|\n",
      "|   1.0921932004E11|             B.BRAUN|       2016|\n",
      "|  1.09210194796E11|     ASTELLAS PHARMA|       2016|\n",
      "|  1.09210194796E11|         ITALFARMACO|       2016|\n",
      "|  1.09206206266E11|               AMGEN|       2016|\n",
      "|  1.09201069552E11|     GILEAD SCIENCES|       2016|\n",
      "|  1.09197081022E11|         KYOWA KIRIN|       2016|\n",
      "|  1.09191944308E11|        SHIRE ITALIA|       2016|\n",
      "|  1.09191944308E11|                SIFI|       2016|\n",
      "|  1.09182819064E11|            ALMIRALL|       2016|\n",
      "|  1.09182819064E11|    BIOFUTURA PHARMA|       2016|\n",
      "|  1.09182819064E11|      SERVIER ITALIA|       2016|\n",
      "|  1.09182819064E11|SWEDISH ORPHAN BI...|       2016|\n",
      "|  1.09182819064E11|        ESSEX ITALIA|       2016|\n",
      "|   1.0917369382E11|THERABEL GIENNE P...|       2016|\n",
      "|   1.0917369382E11|      GRIFOLS ITALIA|       2016|\n",
      "|   1.0917369382E11|        MERCK SERONO|       2016|\n",
      "|  1.09166756989E11|JOHNSON & JOHNSON...|       2016|\n",
      "|  1.09164602944E11|         CSL BEHRING|       2016|\n",
      "|  1.09164568576E11|    ELI LILLY ITALIA|       2016|\n",
      "|  1.09164568576E11|       BIOGEN ITALIA|       2016|\n",
      "|  1.09164568576E11|FRESENIUS KABI IT...|       2016|\n",
      "|  1.09164568576E11|              CRINOS|       2016|\n",
      "|  1.09164568576E11|   GRUNENTHAL ITALIA|       2016|\n",
      "|  1.09164568576E11|              MONICO|       2016|\n",
      "|  1.09164568576E11|PIRAMAL CRITICAL ...|       2016|\n",
      "|  1.09164568576E11|       ZAMBON ITALIA|       2016|\n",
      "|  1.09164568576E11|SIGMA TAU INDUSTR...|       2016|\n",
      "|  1.09164568576E11|        JANSEN CILAG|       2016|\n",
      "|  1.09164568576E11|THE MEDICINES COM...|       2016|\n",
      "|  1.09164568576E11|      HOSPIRA ITALIA|       2016|\n",
      "+------------------+--------------------+-----------+\n",
      "\n"
     ]
    },
    {
     "name": "stderr",
     "output_type": "stream",
     "text": [
      "\r",
      "[Stage 46:=================================================>        (6 + 1) / 7]\r",
      "\r",
      "                                                                                \r"
     ]
    }
   ],
   "source": [
    "# Show largest public tender ever\n",
    "df_largest_tender = spark.sql(\"\"\"\n",
    "SELECT  sum(final_price) AS revenue, bidder_name, tender_year\n",
    "FROM data\n",
    "WHERE (\n",
    "tender_year IS NOT NULL\n",
    "and\n",
    "bidder_name is not null)\n",
    "GROUP BY bidder_name, tender_year\n",
    "ORDER BY revenue DESC\n",
    "LIMIT 50;\n",
    "\"\"\").show(150)"
   ]
  },
  {
   "cell_type": "code",
   "execution_count": 70,
   "metadata": {},
   "outputs": [
    {
     "name": "stderr",
     "output_type": "stream",
     "text": [
      "[Stage 71:>                                                         (0 + 1) / 1]\r"
     ]
    },
    {
     "name": "stdout",
     "output_type": "stream",
     "text": [
      "+-----------+--------------+--------------------+\n",
      "|tender_year|tender_country|    sum(final_price)|\n",
      "+-----------+--------------+--------------------+\n",
      "|       2017|            RO|2.754602780603906E11|\n",
      "|       2018|            RO|1.138871757598503...|\n",
      "|       2019|            RO|2.542762587666996E10|\n",
      "|       2020|            RO|1.321920690842858...|\n",
      "|       2016|            RO| 1.61881352194375E11|\n",
      "|       2015|            RO|  1.9814936524575E11|\n",
      "|       2013|            RO|1.540934407952031...|\n",
      "|       2010|            RO|3.237844187124218...|\n",
      "|       2009|            RO|1.631532532364453...|\n",
      "|       2012|            RO|1.875654783468828E11|\n",
      "|       2011|            RO|1.184161238118593...|\n",
      "|       2014|            RO|2.255745434481718...|\n",
      "|       2020|            FI|2.586965495451562...|\n",
      "|       2016|            LT|1.061778788957968...|\n",
      "|       2017|            LT|2.705848238554687...|\n",
      "|       2014|            LT|1.121908423859531...|\n",
      "|       2009|            LT|  1.54997946221875E9|\n",
      "|       2017|            FI|     3.4972433734E10|\n",
      "|       2014|            FI|  1.5559487490875E10|\n",
      "|       2011|            FI|     1.3739102197E10|\n",
      "|       2018|            LT|1.529550015373437...|\n",
      "|       2010|            FI|2.745566589353515...|\n",
      "|       2009|            FI|1.039570014794958...|\n",
      "|       2013|            FI| 4.13174760066875E10|\n",
      "|       2013|            LT|  2.7021757413125E10|\n",
      "|       2011|            LT|     1.1946969839E10|\n",
      "|       2019|            LT| 2.19321815430625E10|\n",
      "|       2010|            LT| 4.452281791484375E9|\n",
      "|       2018|            FI|    6.36542873625E10|\n",
      "|       2020|            LT|    6.842496319625E9|\n",
      "|       2015|            LT|4.549899950147812...|\n",
      "|       2015|            FI|   3.508490826325E10|\n",
      "|       2012|            FI|  2.1679791813125E10|\n",
      "|       2019|            FI|4.422637419044531E10|\n",
      "|       2016|            FI|3.378691690465625E10|\n",
      "|       2012|            LT|    1.58850778695E10|\n",
      "|       2009|            PT|  6.05064820146875E9|\n",
      "|       2009|            PL|3.915303219846875E10|\n",
      "|       2011|            PT| 2.391948311859375E9|\n",
      "|       2012|            PT|  1.96171526196875E9|\n",
      "|       2017|            PT|1.190378526270312...|\n",
      "|       2019|            PT|2.377990879807812...|\n",
      "|       2020|            PT|1.264440786371875E10|\n",
      "|       2010|            PT|   5.6585915339375E9|\n",
      "|       2014|            DE|3.197435857534477...|\n",
      "|       2013|            DE|6.444185369506811...|\n",
      "|       2010|            PL|7.053633019689062E10|\n",
      "|       2011|            PL|1.280353391116875E11|\n",
      "|       2018|            PT|1.413226766010937...|\n",
      "|       2016|            PT|  7.23184420109375E9|\n",
      "+-----------+--------------+--------------------+\n",
      "only showing top 50 rows\n",
      "\n"
     ]
    },
    {
     "name": "stderr",
     "output_type": "stream",
     "text": [
      "\r",
      "                                                                                \r"
     ]
    }
   ],
   "source": [
    "df_c = spark.sql(\"\"\"\n",
    "WITH largest_bidders As\n",
    "(SELECT tender_country, sum(final_price)\n",
    "FROM data\n",
    "GROUP BY tender_country)\n",
    "\n",
    "SELECT tender_year, data.tender_country, sum(final_price)\n",
    "from data\n",
    "join largest_bidders\n",
    "on largest_bidders.tender_country = data.tender_country\n",
    "where tender_year is not null\n",
    "Group by tender_year, data.tender_country;\n",
    "\"\"\")"
   ]
  },
  {
   "cell_type": "code",
   "execution_count": 75,
   "metadata": {},
   "outputs": [
    {
     "name": "stderr",
     "output_type": "stream",
     "text": [
      "22/04/15 12:51:35 WARN RowBasedKeyValueBatch: Calling spill() on RowBasedKeyValueBatch. Will not spill but return 0.\n",
      "22/04/15 12:51:35 WARN RowBasedKeyValueBatch: Calling spill() on RowBasedKeyValueBatch. Will not spill but return 0.\n",
      "22/04/15 12:51:39 WARN RowBasedKeyValueBatch: Calling spill() on RowBasedKeyValueBatch. Will not spill but return 0.\n",
      "                                                                                \r"
     ]
    },
    {
     "name": "stdout",
     "output_type": "stream",
     "text": [
      "+-----------+--------------------+----------------+\n",
      "|tender_year|         bidder_name|sum(final_price)|\n",
      "+-----------+--------------------+----------------+\n",
      "|       2016|         TEVA ITALIA|1.09164568576E11|\n",
      "|       2015|         TEVA ITALIA|   3.004642784E9|\n",
      "|       2009|            Hexal AG|        270332.0|\n",
      "|       2018|     AAA-Pharma GmbH|       2652000.0|\n",
      "|       2018|   ALIUD PHARMA GmbH|        3.4476E7|\n",
      "|       2020|     AAA-Pharma GmbH|    1.05563306E9|\n",
      "|       2019|  Aristo Pharma GmbH|   4.009599008E9|\n",
      "|       2018|neuraxpharm Arzne...|        1.5912E7|\n",
      "|       2020|  Aristo Pharma GmbH|   2.961422288E9|\n",
      "|       2020|Glenmark Arzneimi...|    8.47801968E8|\n",
      "|       2020|   ALIUD PHARMA GmbH|   2.753591396E9|\n",
      "|       2019|Glenmark Arzneimi...|   1.354360336E9|\n",
      "|       2018|         Basics GmbH|         1.326E7|\n",
      "|       2020|neuraxpharm Arzne...|    2.17247292E8|\n",
      "|       2020|         Basics GmbH|    4.27431984E8|\n",
      "|       2019|     AAA-Pharma GmbH|    2.97408408E8|\n",
      "|       2019|neuraxpharm Arzne...|   1.334691336E9|\n",
      "|       2018|  Aristo Pharma GmbH|        3.4476E7|\n",
      "|       2019|         Basics GmbH|    4.67660112E8|\n",
      "|       2019|   ALIUD PHARMA GmbH|   3.862773304E9|\n",
      "|       2016|    GALENpharma GmbH|3.89217446296E11|\n",
      "|       2016|   ALIUD PHARMA GmbH|9.76212612048E11|\n",
      "|       2017|Glenmark Arzneimi...|       6897000.0|\n",
      "|       2016|neuraxpharm Arzne...|3.40732359728E11|\n",
      "|       2017|         Basics GmbH| 1.90562314375E7|\n",
      "|       2016|Glenmark Arzneimi...|1.99337815432E11|\n",
      "|       2016|BG Heumann Pharma...|      4.37472E11|\n",
      "|       2017|            Hexal AG|        209000.0|\n",
      "|       2017|  Aristo Pharma GmbH|        1.6093E7|\n",
      "|       2017|   ALIUD PHARMA GmbH|        4.8279E7|\n",
      "|       2016|     1 A Pharma GmbH|7.82850600616E11|\n",
      "|       2016|BG TEVA GmbH, rat...|     2.092538E12|\n",
      "|       2017|neuraxpharm Arzne...|        1.3794E7|\n",
      "|       2016|            Hexal AG|3.92045016664E11|\n",
      "|       2016|     AAA-Pharma GmbH|1.46184343296E11|\n",
      "|       2017|     AAA-Pharma GmbH|       6897000.0|\n",
      "|       2016|BG Zentiva Pharma...|      2.91648E11|\n",
      "|       2016|BG PUREN Pharma G...|      4.37472E11|\n",
      "|       2017|    GALENpharma GmbH|       2299000.0|\n",
      "|       2016|  Aristo Pharma GmbH|5.36139022864E11|\n",
      "|       2016|         Basics GmbH|1.95386018456E11|\n",
      "+-----------+--------------------+----------------+\n",
      "\n"
     ]
    }
   ],
   "source": [
    "df_b = spark.sql(\"\"\"\n",
    "WITH largest_bidders As\n",
    "(SELECT bidder_name, sum(final_price)\n",
    "FROM data\n",
    "GROUP BY bidder_name\n",
    "order by sum(final_price) desc\n",
    "limit 15)\n",
    "\n",
    "SELECT tender_year, data.bidder_name, sum(final_price)\n",
    "from data\n",
    "join largest_bidders\n",
    "on largest_bidders.bidder_name = data.bidder_name\n",
    "where (data.tender_year is not null\n",
    "and\n",
    "data.final_price is not null)\n",
    "Group by tender_year, data.bidder_name;\n",
    "\"\"\").show(50)"
   ]
  },
  {
   "cell_type": "code",
   "execution_count": null,
   "metadata": {},
   "outputs": [],
   "source": []
  }
 ],
 "metadata": {
  "interpreter": {
   "hash": "17ee5042bd2f374ce893bd79ee2f892fd6d3a6c485cf6ba457a8346252691a2a"
  },
  "kernelspec": {
   "display_name": "Python 3 (ipykernel)",
   "language": "python",
   "name": "python3"
  },
  "language_info": {
   "codemirror_mode": {
    "name": "ipython",
    "version": 3
   },
   "file_extension": ".py",
   "mimetype": "text/x-python",
   "name": "python",
   "nbconvert_exporter": "python",
   "pygments_lexer": "ipython3",
   "version": "3.9.7"
  }
 },
 "nbformat": 4,
 "nbformat_minor": 2
}
